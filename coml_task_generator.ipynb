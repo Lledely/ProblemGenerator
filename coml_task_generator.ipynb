{
 "cells": [
  {
   "cell_type": "markdown",
   "metadata": {},
   "source": [
    "Напишем генератор задач по линейной алгебре по следующему прототипу: <br>\n",
    "\"Дано комплексное число $z = a + b \\cdot i$. Найти $k$-ый по счету корень $n$-ой степени из $z$, начиная от угла в $0$ градусов в сторону повышения угла поворота\""
   ]
  },
  {
   "cell_type": "markdown",
   "metadata": {},
   "source": [
    "Сначала подключаем все необходимые библиотеки"
   ]
  },
  {
   "cell_type": "code",
   "execution_count": 1,
   "metadata": {},
   "outputs": [],
   "source": [
    "import random\n",
    "import sympy\n",
    "from sympy import I, latex\n",
    "from IPython.display import display, Latex"
   ]
  },
  {
   "cell_type": "markdown",
   "metadata": {},
   "source": [
    "Напишем функцию, которая генерирует $2$ случайных вещественных числа ($a$ и  $b$ соответственно), а также функция будет генерировать $2$ натуральных числа ($n$ и $k$ соответсвенно). Функция возврщается картеж из сгенерированных значений."
   ]
  },
  {
   "cell_type": "code",
   "execution_count": 2,
   "metadata": {},
   "outputs": [],
   "source": [
    "def generate_random_int(\n",
    "    min_value:int=1,\n",
    "    max_value:int=10     \n",
    ") -> int:\n",
    "    return random.randint(min_value, max_value)"
   ]
  },
  {
   "cell_type": "code",
   "execution_count": 3,
   "metadata": {},
   "outputs": [],
   "source": [
    "def generate_random_float(\n",
    "    min_value:float=1.0,\n",
    "    max_value:float=10.0,\n",
    "    digits:int=2\n",
    ") -> float:\n",
    "    return round(random.uniform(min_value, max_value), digits)"
   ]
  },
  {
   "cell_type": "code",
   "execution_count": 4,
   "metadata": {},
   "outputs": [],
   "source": [
    "def generate_random_numbers(\n",
    "    to_generate:dict[str: tuple[str, str, bool]]\n",
    ") -> dict[str: tuple[float, bool]]:\n",
    "    result = dict()\n",
    "    for num, data in to_generate.items():\n",
    "        left_border, right_border = 0.0, 0.0\n",
    "\n",
    "        if data[0].isalpha():\n",
    "            if not data[0] in result.keys():\n",
    "                raise ValueError(f\"Variable {data[0]} is not defined\")\n",
    "            left_border = result[data[0]][0]\n",
    "        elif data[0].isnumeric():\n",
    "            left_border = float(data[0])\n",
    "        else:\n",
    "            raise ValueError(f\"Invalid left border value: {data[0]}\")\n",
    "\n",
    "\n",
    "        if data[1].isalpha():\n",
    "            if not data[1] in result.keys():\n",
    "                raise ValueError(f\"Variable {data[1]} is not defined\")\n",
    "            right_border = result[data[1]][0]\n",
    "        elif data[1].isnumeric():\n",
    "            right_border = float(data[1])\n",
    "        else:\n",
    "            raise ValueError(f\"Invalid right border value: {data[1]}\")\n",
    "        \n",
    "        if data[2]:\n",
    "            result[num] = (generate_random_int(int(left_border), int(right_border)), data[2])\n",
    "        else:\n",
    "            result[num] = (generate_random_float(left_border, right_border), data[2])\n",
    "\n",
    "    return result\n",
    "        "
   ]
  },
  {
   "cell_type": "markdown",
   "metadata": {},
   "source": [
    "Для создания $LaTeX$ файла необходимы заголовочные файлы, поэтому запишем все потенциально необходимые подключеия в отдельную переменную. "
   ]
  },
  {
   "cell_type": "code",
   "execution_count": 5,
   "metadata": {},
   "outputs": [],
   "source": [
    "default_headers = r\"\"\"\n",
    "\\documentclass[12pt]{extarticle}\n",
    "\\usepackage{graphicx}\n",
    "\\usepackage{amsmath}\n",
    "\\usepackage{mathabx}\n",
    "\\usepackage[utf8]{inputenc}\n",
    "\\usepackage[T1,T2A]{fontenc}\n",
    "\\usepackage[russian]{babel}\n",
    "\\usepackage{amsfonts}\n",
    "\\usepackage{gensymb}\n",
    "\\usepackage{listings}\n",
    "\\usepackage{titlesec}\n",
    "\\usepackage{color}\n",
    "\\usepackage[dvipsnames]{xcolor}\n",
    "\\usepackage{soul}\n",
    "\\usepackage{xfrac}\n",
    "\\usepackage{hyperref}\n",
    "\\usepackage[margin=0.5in]{geometry}\n",
    "\\usepackage{tikz}\n",
    "\\usetikzlibrary{decorations.pathreplacing,calligraphy}\n",
    "\n",
    "\\usepackage{blindtext}\n",
    "\n",
    "\\newsavebox\\MBox\n",
    "\\newcommand\\Cline[2][red]{{\\sbox\\MBox{$#2$}%\n",
    "  \\rlap{\\usebox\\MBox}\\color{#1}\\rule[-1.2\\dp\\MBox]{\\wd\\MBox}{0.5pt}}}\n",
    "\n",
    "\\newcommand{\\mgcd}[2]{{\\text{GCD}\\left(#1,\\, #2\\right)}}\n",
    "\\newcommand{\\fib}[1]{\\operatorname{Fib}_{#1}}\n",
    "\\newcommand{\\mred}[1]{{\\color{red}#1}}\n",
    "\\newcommand{\\mpurple}[1]{{\\color{purple}#1}}\n",
    "\\newcommand{\\morange}[1]{{\\color{orange}#1}}\n",
    "\\newcommand{\\mblue}[1]{{\\color{blue}#1}}\n",
    "\\newcommand{\\mcol}[2]{{\\color{#1}#2}}\n",
    "\\newcommand{\\mprime}[1]{#1^{\\prime}}\n",
    "\\newcommand{\\highlight}[2][yellow]{\\mathchoice%\n",
    "  {\\colorbox{#1}{$\\displaystyle#2$}}%\n",
    "  {\\colorbox{#1}{$\\textstyle#2$}}%\n",
    "  {\\colorbox{#1}{$\\scriptstyle#2$}}%\n",
    "  {\\colorbox{#1}{$\\scriptscriptstyle#2$}}}%\n",
    "\n",
    "\\newcommand{\\myul}[2][black]{\\setulcolor{#1}\\ul{#2}\\setulcolor{black}}\n",
    "\n",
    "% \\titleformat{\\subsection}[block]{\\color{black}\\Large\\bfseries\\filcenter}{}{1em}{}\n",
    "\n",
    "\\definecolor{dkgreen}{rgb}{0,0.6,0}\n",
    "\\definecolor{gray}{rgb}{0.5,0.5,0.5}\n",
    "\\definecolor{mauve}{rgb}{0.58,0,0.82}\n",
    "\n",
    "% \\textwidth 20cm\n",
    "\n",
    "\\lstset{frame=tb,\n",
    "  language=Python,\n",
    "  aboveskip=3mm,\n",
    "  belowskip=3mm,\n",
    "  showstringspaces=false,\n",
    "  columns=flexible,\n",
    "  basicstyle={\\small\\ttfamily},\n",
    "  numbers=none,\n",
    "  numberstyle=\\tiny\\color{gray},\n",
    "  keywordstyle=\\color{blue},\n",
    "  commentstyle=\\color{dkgreen},\n",
    "  stringstyle=\\color{mauve},\n",
    "  breaklines=true,\n",
    "  breakatwhitespace=true,\n",
    "  tabsize=3\n",
    "}\n",
    "\"\"\""
   ]
  },
  {
   "cell_type": "markdown",
   "metadata": {},
   "source": [
    "Напишем функцию, которая будет создавать $LaTeX$ код при помощи переданных в него заголовков и сгенерированных чисел."
   ]
  },
  {
   "cell_type": "code",
   "execution_count": 6,
   "metadata": {},
   "outputs": [],
   "source": [
    "def generate_problem_latex(\n",
    "        original_text:str,\n",
    "        numbers:dict[str: tuple[float, bool]],\n",
    "        headers:str=default_headers\n",
    ") -> str:\n",
    "        problem = headers\n",
    "        problem += r\"\\begin{document}\"\n",
    "        problem += original_text\n",
    "        problem += r\"$$\"\n",
    "        for number, data in numbers.items():\n",
    "                problem += number\n",
    "                problem += r\" = \"\n",
    "                if data[1]:\n",
    "                        problem += str(int(data[0]))\n",
    "                else:\n",
    "                        problem += str(data[0])\n",
    "                if number != list(numbers.keys())[-1]:\n",
    "                        problem += r\",\\ \"\n",
    "        problem += r\"$$\"\n",
    "        problem += r\"\\end{document}\"\n",
    "        return problem"
   ]
  },
  {
   "cell_type": "markdown",
   "metadata": {},
   "source": [
    "Создадим функцию, которая сохраняет созданный код в $.tex$ файл по указанному пути"
   ]
  },
  {
   "cell_type": "code",
   "execution_count": 7,
   "metadata": {},
   "outputs": [],
   "source": [
    "def write_code_to_file(\n",
    "        code:str, \n",
    "        pathname:str=\"problem.tex\"\n",
    ") -> None:\n",
    "    if len(pathname) < 4:\n",
    "        raise ValueError(\"File name must have at least 4 characters\")\n",
    "    if pathname[-4:] != \".tex\":\n",
    "        raise ValueError(\"File must have a .tex extension\")\n",
    "    with open(pathname, 'w') as file:\n",
    "        file.write(code)"
   ]
  },
  {
   "cell_type": "markdown",
   "metadata": {},
   "source": [
    "Протестируем код"
   ]
  },
  {
   "cell_type": "code",
   "execution_count": 10,
   "metadata": {},
   "outputs": [],
   "source": [
    "prob = generate_problem_latex(\n",
    "    \"\"\"sosal?\"\"\",\n",
    "    generate_random_numbers(\n",
    "        {\"a\": (\"1\", \"10\", True), \"b\": (\"a\", \"20\", False), \"c\": (\"b\", \"b\", False)}\n",
    "    )\n",
    ")\n",
    "\n",
    "write_code_to_file(prob, \"build/problem.tex\")"
   ]
  }
 ],
 "metadata": {
  "kernelspec": {
   "display_name": "Python 3",
   "language": "python",
   "name": "python3"
  },
  "language_info": {
   "codemirror_mode": {
    "name": "ipython",
    "version": 3
   },
   "file_extension": ".py",
   "mimetype": "text/x-python",
   "name": "python",
   "nbconvert_exporter": "python",
   "pygments_lexer": "ipython3",
   "version": "3.13.0"
  }
 },
 "nbformat": 4,
 "nbformat_minor": 2
}
